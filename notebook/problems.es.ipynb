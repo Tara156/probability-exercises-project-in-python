{
 "cells": [
  {
   "cell_type": "markdown",
   "id": "a41f3622",
   "metadata": {},
   "source": [
    "# Ejercicios de probabilidad"
   ]
  },
  {
   "cell_type": "markdown",
   "id": "a6bdbd89",
   "metadata": {},
   "source": [
    "## Ejercicio 1 \n",
    "\n",
    "Dos dados se lanzan una vez y se observa el total obtenido. Usa una simulación para encontrar la probabilidad estimada de que la puntuación sea mayor a 7 o un número par. Una simulación es una repetición del mismo experimento multiples veces para observar su comportamiento:\n",
    "\n",
    "- Ejecuta el experimento 1000 veces (lanza 2 dados 1000 veces, y suma el número de ambos dados).\n",
    "- Lleva ua cuenta de los números y las veces que la suma fue mayor a 7 o un número par.\n",
    "- Divide el número del paso 2 entre el número de iteraciones(1000)."
   ]
  },
  {
   "cell_type": "code",
   "execution_count": 1,
   "id": "8939d892",
   "metadata": {},
   "outputs": [
    {
     "name": "stdout",
     "output_type": "stream",
     "text": [
      "Probabilidad de obtener una suma mayor a 7 o un número par: 0.665\n"
     ]
    }
   ],
   "source": [
    "# TODO\n",
    "import random\n",
    "random.seed(42)\n",
    "def lanzar_dados():\n",
    "    # lanzar dos dados y return la suma\n",
    "    dado1 = random.randint(1, 6)\n",
    "    dado2 = random.randint(1, 6)\n",
    "    return dado1 + dado2\n",
    "\n",
    "def simulacion(numero_de_intentos):\n",
    "    # simulación de 1000 para lanzar los dos dados y calcular la prob de  > 7 o par\n",
    "    casos_favorables = 0\n",
    "    \n",
    "    for i in range(numero_de_intentos):\n",
    "        suma = lanzar_dados()\n",
    "        if suma > 7 or suma % 2 == 0:\n",
    "            casos_favorables += 1\n",
    "    \n",
    "    probabilidad = casos_favorables / numero_de_intentos\n",
    "    print(f\"Probabilidad de obtener una suma mayor a 7 o un número par: {probabilidad}\")\n",
    "\n",
    "\n",
    "if __name__ == '__main__':\n",
    "    numero_de_intentos = 1000  \n",
    "    simulacion(numero_de_intentos)"
   ]
  },
  {
   "cell_type": "markdown",
   "id": "55732bca",
   "metadata": {},
   "source": [
    "## Ejercicio 2\n",
    "\n",
    "Una caja contiene 10 bolas blancas, 20 bolas rojas y 30 bolas verdes. Si tomamos 5 bolas de la caja reemplazándolas (tomando una bola, anotando el color y luego regresandola a la caja). Queremos saber la probabilidad de:\n",
    "\n",
    "1. Tomar 3 blancas y 2 rojas.\n",
    "2. Toas todas del mismo color.\n",
    "\n",
    "Ejecuta el experimento 1000 veces y calcula las probabilidades que mencionadas."
   ]
  },
  {
   "cell_type": "code",
   "execution_count": 15,
   "id": "23244d20",
   "metadata": {},
   "outputs": [
    {
     "name": "stdout",
     "output_type": "stream",
     "text": [
      "Probabilidad de tomar 3 blancas y 2 rojas: 0.005\n",
      "Probabilidad de tomar todas del mismo color: 0.052\n"
     ]
    }
   ],
   "source": [
    "import random\n",
    "\n",
    "def crear_caja():\n",
    "    #Crear la caja con las bolas según su distribución de colores\n",
    "    ball_box = {}\n",
    "    for i in range(60):\n",
    "        if i < 10:\n",
    "            ball_box[i] = \"White\"\n",
    "        elif 10 <= i < 30:\n",
    "            ball_box[i] = \"Red\"\n",
    "        else:\n",
    "            ball_box[i] = \"Green\"\n",
    "    return ball_box\n",
    "\n",
    "def extraer_bola(ball_box):\n",
    "\n",
    "    #Simulación de extracción las bolas de la caja \n",
    "    return ball_box[random.randint(0, 59)]\n",
    "\n",
    "# ball_box = crear_caja()\n",
    "# extraer_bola(ball_box)\n",
    "\n",
    "def simulacion(numero_de_intentos):\n",
    "\n",
    "    # Realiza la simulación extrayendo 5 bolas con reemplazo y calcula las probabilidades requeridas\n",
    "    ball_box = crear_caja()\n",
    "    casos_3_blancas_2_rojas = 0\n",
    "    casos_mismo_color = 0\n",
    "    \n",
    "    for i in range(numero_de_intentos):  # cada intento se extraen 5 bolas\n",
    "        blancas = 0\n",
    "        rojas = 0\n",
    "        verdes = 0\n",
    "        \n",
    "        for i in range(5):  # simulación de 1 turno donde se extraen 5 bolas\n",
    "            bola = extraer_bola(ball_box)\n",
    "            \n",
    "            if bola == 'White':\n",
    "                blancas += 1\n",
    "            elif bola == 'Red':\n",
    "                rojas += 1\n",
    "            else:\n",
    "                verdes += 1\n",
    "        \n",
    "        if blancas == 3 and rojas == 2:\n",
    "            casos_3_blancas_2_rojas += 1\n",
    "        \n",
    "        if blancas == 5 or rojas == 5 or verdes == 5:\n",
    "            casos_mismo_color += 1\n",
    "    \n",
    "    probabilidad_3_blancas_2_rojas = casos_3_blancas_2_rojas / numero_de_intentos\n",
    "    probabilidad_mismo_color = casos_mismo_color / numero_de_intentos\n",
    "    \n",
    "\n",
    "    print(f'Probabilidad de tomar 3 blancas y 2 rojas: {probabilidad_3_blancas_2_rojas}')\n",
    "    print(f'Probabilidad de tomar todas del mismo color: {probabilidad_mismo_color}')\n",
    "\n",
    "if __name__ == '__main__':\n",
    "    numero_de_intentos = 1000  # Número de simulaciones\n",
    "    simulacion(numero_de_intentos)\n"
   ]
  }
 ],
 "metadata": {
  "kernelspec": {
   "display_name": "Python 3",
   "language": "python",
   "name": "python3"
  },
  "language_info": {
   "codemirror_mode": {
    "name": "ipython",
    "version": 3
   },
   "file_extension": ".py",
   "mimetype": "text/x-python",
   "name": "python",
   "nbconvert_exporter": "python",
   "pygments_lexer": "ipython3",
   "version": "3.11.4"
  }
 },
 "nbformat": 4,
 "nbformat_minor": 5
}
